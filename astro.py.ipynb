{
 "cells": [
  {
   "cell_type": "code",
   "execution_count": 52,
   "metadata": {},
   "outputs": [
    {
     "name": "stdout",
     "output_type": "stream",
     "text": [
      "time spent: 21\n"
     ]
    }
   ],
   "source": [
    "from selenium import webdriver\n",
    "from selenium.webdriver.common.keys import Keys\n",
    "import time\n",
    "\n",
    "my_name = \"Ali\"\n",
    "my_location = \"Karachi\"\n",
    "my_day = \"26\"\n",
    "my_month = \"02\"\n",
    "my_year = \"1994\"\n",
    "my_hour = \"03\"\n",
    "my_minute = \"30\"\n",
    "my_meridian = \"AM\"\n",
    "\n",
    "driver = webdriver.Chrome()\n",
    "driver.get(\"https://astro-charts.com/\")\n",
    "time.sleep(5)\n",
    "\n",
    "# name field\n",
    "name = driver.find_element_by_name(\"name\")\n",
    "name.send_keys(my_name)\n",
    "\n",
    "# location field\n",
    "location = driver.find_element_by_class_name(\"form-control.input.geolocation.tt-input\")\n",
    "location.send_keys(my_location)\n",
    "time.sleep(3)\n",
    "location.send_keys(Keys.DOWN)\n",
    "time.sleep(1)\n",
    "location.send_keys(Keys.ENTER)\n",
    "\n",
    "# DOB field\n",
    "month = driver.find_element_by_class_name(\"form-control.input.month.center-align\")\n",
    "month.send_keys(my_month)\n",
    "day = driver.find_element_by_class_name(\"form-control.input.day.center-align\")\n",
    "day.send_keys(my_day)\n",
    "year = driver.find_element_by_class_name(\"form-control.input.year.center-align\")\n",
    "year.send_keys(my_year)\n",
    "\n",
    "# Time field\n",
    "hour = driver.find_element_by_class_name(\"form-control.input.hour.center-align\")\n",
    "hour.send_keys(my_hour)\n",
    "minutes = driver.find_element_by_class_name(\"form-control.input.min.center-align\")\n",
    "minutes.send_keys(my_minute)\n",
    "\n",
    "if my_meridian.upper() == \"AM\":\n",
    "    meridian = driver.find_element_by_xpath(\"//*[@id='add_chart_form']/div[4]/div/div[2]/div[3]/label[1]/input\")\n",
    "else:\n",
    "    # default is PM\n",
    "    pass\n",
    "meridian.send_keys(Keys.SPACE)\n",
    "\n",
    "# Submit\n",
    "create_chart = driver.find_element_by_class_name(\"btn.btn-primary.btn-hg.btn-submit\") \n",
    "create_chart.click()\n"
   ]
  }
 ],
 "metadata": {
  "kernelspec": {
   "display_name": "Python 3",
   "language": "python",
   "name": "python3"
  },
  "language_info": {
   "codemirror_mode": {
    "name": "ipython",
    "version": 3
   },
   "file_extension": ".py",
   "mimetype": "text/x-python",
   "name": "python",
   "nbconvert_exporter": "python",
   "pygments_lexer": "ipython3",
   "version": "3.7.6"
  }
 },
 "nbformat": 4,
 "nbformat_minor": 4
}
