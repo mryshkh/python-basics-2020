{
 "cells": [
  {
   "cell_type": "code",
   "execution_count": 45,
   "metadata": {},
   "outputs": [
    {
     "data": {
      "text/plain": [
       "tuple"
      ]
     },
     "execution_count": 45,
     "metadata": {},
     "output_type": "execute_result"
    }
   ],
   "source": [
    "#Tuple\n",
    "t = (1,2,3,4)\n",
    "type(t)"
   ]
  },
  {
   "cell_type": "code",
   "execution_count": 44,
   "metadata": {},
   "outputs": [
    {
     "data": {
      "text/plain": [
       "list"
      ]
     },
     "execution_count": 44,
     "metadata": {},
     "output_type": "execute_result"
    }
   ],
   "source": [
    "l = [1,2,3,4]\n",
    "type(l)"
   ]
  },
  {
   "cell_type": "code",
   "execution_count": null,
   "metadata": {},
   "outputs": [],
   "source": []
  },
  {
   "cell_type": "markdown",
   "metadata": {},
   "source": [
    "Link to API\n",
    "https://rapidapi.com/priaid/api/symptom-checker"
   ]
  },
  {
   "cell_type": "code",
   "execution_count": 35,
   "metadata": {},
   "outputs": [
    {
     "name": "stdout",
     "output_type": "stream",
     "text": [
      "Real Python Is Great !\n"
     ]
    },
    {
     "ename": "TypeError",
     "evalue": "concatenate_thehardestway() missing 2 required positional arguments: 'd' and 'e'",
     "output_type": "error",
     "traceback": [
      "\u001b[0;31m---------------------------------------------------------------------------\u001b[0m",
      "\u001b[0;31mTypeError\u001b[0m                                 Traceback (most recent call last)",
      "\u001b[0;32m<ipython-input-35-ddd63a027d8e>\u001b[0m in \u001b[0;36m<module>\u001b[0;34m\u001b[0m\n\u001b[1;32m      5\u001b[0m \u001b[0;34m\u001b[0m\u001b[0m\n\u001b[1;32m      6\u001b[0m \u001b[0mprint\u001b[0m\u001b[0;34m(\u001b[0m\u001b[0mconcatenate_thehardestway\u001b[0m\u001b[0;34m(\u001b[0m\u001b[0ma\u001b[0m\u001b[0;34m=\u001b[0m\u001b[0;34m\"Real\"\u001b[0m\u001b[0;34m,\u001b[0m \u001b[0mb\u001b[0m\u001b[0;34m=\u001b[0m\u001b[0;34m\"Python\"\u001b[0m\u001b[0;34m,\u001b[0m \u001b[0mc\u001b[0m\u001b[0;34m=\u001b[0m\u001b[0;34m\"Is\"\u001b[0m\u001b[0;34m,\u001b[0m \u001b[0md\u001b[0m\u001b[0;34m=\u001b[0m\u001b[0;34m\"Great\"\u001b[0m\u001b[0;34m,\u001b[0m \u001b[0me\u001b[0m\u001b[0;34m=\u001b[0m\u001b[0;34m\"!\"\u001b[0m\u001b[0;34m)\u001b[0m\u001b[0;34m)\u001b[0m\u001b[0;34m\u001b[0m\u001b[0;34m\u001b[0m\u001b[0m\n\u001b[0;32m----> 7\u001b[0;31m \u001b[0mprint\u001b[0m\u001b[0;34m(\u001b[0m\u001b[0mconcatenate_thehardestway\u001b[0m\u001b[0;34m(\u001b[0m\u001b[0ma\u001b[0m\u001b[0;34m=\u001b[0m\u001b[0;34m\"Real\"\u001b[0m\u001b[0;34m,\u001b[0m \u001b[0mb\u001b[0m\u001b[0;34m=\u001b[0m\u001b[0;34m\"Python\"\u001b[0m\u001b[0;34m,\u001b[0m \u001b[0mc\u001b[0m\u001b[0;34m=\u001b[0m\u001b[0;34m\"Is\"\u001b[0m\u001b[0;34m)\u001b[0m\u001b[0;34m)\u001b[0m \u001b[0;31m#throws an error\u001b[0m\u001b[0;34m\u001b[0m\u001b[0;34m\u001b[0m\u001b[0m\n\u001b[0m",
      "\u001b[0;31mTypeError\u001b[0m: concatenate_thehardestway() missing 2 required positional arguments: 'd' and 'e'"
     ]
    }
   ],
   "source": [
    "def concatenate_thehardestway(a ,b, c, d, e):\n",
    "    result = \"\"\n",
    "    result += a + \" \"+ b + \" \" + c + \" \" + d + \" \" + e\n",
    "    return result\n",
    "\n",
    "print(concatenate_thehardestway(a=\"Real\", b=\"Python\", c=\"Is\", d=\"Great\", e=\"!\"))\n",
    "print(concatenate_thehardestway(a=\"Real\", b=\"Python\", c=\"Is\")) #throws an error"
   ]
  },
  {
   "cell_type": "code",
   "execution_count": 36,
   "metadata": {},
   "outputs": [
    {
     "name": "stdout",
     "output_type": "stream",
     "text": [
      "Real Python Is Great !\n",
      "Real Python Is  \n"
     ]
    },
    {
     "ename": "TypeError",
     "evalue": "concatenate_thehardhardway() got an unexpected keyword argument 'f'",
     "output_type": "error",
     "traceback": [
      "\u001b[0;31m---------------------------------------------------------------------------\u001b[0m",
      "\u001b[0;31mTypeError\u001b[0m                                 Traceback (most recent call last)",
      "\u001b[0;32m<ipython-input-36-3292c9182fa8>\u001b[0m in \u001b[0;36m<module>\u001b[0;34m\u001b[0m\n\u001b[1;32m      7\u001b[0m \u001b[0mprint\u001b[0m\u001b[0;34m(\u001b[0m\u001b[0mconcatenate_thehardhardway\u001b[0m\u001b[0;34m(\u001b[0m\u001b[0ma\u001b[0m\u001b[0;34m=\u001b[0m\u001b[0;34m\"Real\"\u001b[0m\u001b[0;34m,\u001b[0m \u001b[0mb\u001b[0m\u001b[0;34m=\u001b[0m\u001b[0;34m\"Python\"\u001b[0m\u001b[0;34m,\u001b[0m \u001b[0mc\u001b[0m\u001b[0;34m=\u001b[0m\u001b[0;34m\"Is\"\u001b[0m\u001b[0;34m)\u001b[0m\u001b[0;34m)\u001b[0m\u001b[0;34m\u001b[0m\u001b[0;34m\u001b[0m\u001b[0m\n\u001b[1;32m      8\u001b[0m \u001b[0;34m\u001b[0m\u001b[0m\n\u001b[0;32m----> 9\u001b[0;31m \u001b[0mprint\u001b[0m\u001b[0;34m(\u001b[0m\u001b[0mconcatenate_thehardhardway\u001b[0m\u001b[0;34m(\u001b[0m\u001b[0ma\u001b[0m\u001b[0;34m=\u001b[0m\u001b[0;34m\"Real\"\u001b[0m\u001b[0;34m,\u001b[0m \u001b[0mb\u001b[0m\u001b[0;34m=\u001b[0m\u001b[0;34m\"Python\"\u001b[0m\u001b[0;34m,\u001b[0m \u001b[0mc\u001b[0m\u001b[0;34m=\u001b[0m\u001b[0;34m\"Is\"\u001b[0m\u001b[0;34m,\u001b[0m \u001b[0md\u001b[0m\u001b[0;34m=\u001b[0m\u001b[0;34m\"Great\"\u001b[0m\u001b[0;34m,\u001b[0m \u001b[0me\u001b[0m\u001b[0;34m=\u001b[0m\u001b[0;34m\"!\"\u001b[0m\u001b[0;34m,\u001b[0m \u001b[0mf\u001b[0m\u001b[0;34m=\u001b[0m\u001b[0;34m\"ok\"\u001b[0m\u001b[0;34m)\u001b[0m\u001b[0;34m)\u001b[0m\u001b[0;34m\u001b[0m\u001b[0;34m\u001b[0m\u001b[0m\n\u001b[0m",
      "\u001b[0;31mTypeError\u001b[0m: concatenate_thehardhardway() got an unexpected keyword argument 'f'"
     ]
    }
   ],
   "source": [
    "def concatenate_thehardhardway(a = \"\" ,b = \"\", c = \"\", d = \"\" , e= \"\"):\n",
    "    result = \"\"\n",
    "    result += a + \" \"+ b + \" \" + c + \" \" + d + \" \" + e\n",
    "    return result\n",
    "\n",
    "print(concatenate_thehardhardway(a=\"Real\", b=\"Python\", c=\"Is\", d=\"Great\", e=\"!\"))\n",
    "print(concatenate_thehardhardway(a=\"Real\", b=\"Python\", c=\"Is\"))\n",
    "\n",
    "print(concatenate_thehardhardway(a=\"Real\", b=\"Python\", c=\"Is\", d=\"Great\", e=\"!\", f=\"ok\"))"
   ]
  },
  {
   "cell_type": "code",
   "execution_count": 37,
   "metadata": {},
   "outputs": [
    {
     "name": "stdout",
     "output_type": "stream",
     "text": [
      " Real Python Is Great ! and Alina is Awesome\n"
     ]
    }
   ],
   "source": [
    "def concatenate_args(*args):\n",
    "    result = \"\"\n",
    "    for arg in args:\n",
    "        result += \" \"+arg\n",
    "    return result\n",
    "\n",
    "x = concatenate_args(\"Real\", \"Python\", \"Is\", \"Great\", \"!\", \"and\", \"Alina\", \"is\", \"Awesome\")\n",
    "print(x)"
   ]
  },
  {
   "cell_type": "code",
   "execution_count": 39,
   "metadata": {},
   "outputs": [
    {
     "name": "stdout",
     "output_type": "stream",
     "text": [
      " Real Python Is Great !\n",
      " Real Python Is\n",
      " Real Python Is Great ! Ok\n"
     ]
    }
   ],
   "source": [
    "print(concatenate_args(\"Real\", \"Python\",\"Is\", \"Great\",\"!\"))\n",
    "print(concatenate_args(\"Real\", \"Python\",\"Is\"))\n",
    "print(concatenate_args(\"Real\", \"Python\",\"Is\",\"Great\",\"!\", \"Ok\"))"
   ]
  },
  {
   "cell_type": "code",
   "execution_count": 40,
   "metadata": {},
   "outputs": [
    {
     "name": "stdout",
     "output_type": "stream",
     "text": [
      " Real Python Is Great !\n",
      " Real Python Is Great !\n",
      " Real Python Is\n",
      " Real Python Is Great ! ok\n"
     ]
    }
   ],
   "source": [
    "def concatenate_kwargs(**kwargs):\n",
    "    result = \"\"\n",
    "    # Iterating over the Python kwargs dictionary\n",
    "    for arg in kwargs.values():\n",
    "        result += \" \"+arg\n",
    "    return result\n",
    "\n",
    "print(concatenate_kwargs(a=\"Real\", b=\"Python\", c=\"Is\", d=\"Great\", e=\"!\"))\n",
    "print(concatenate_kwargs(a=\"Real\", b=\"Python\", c=\"Is\", d=\"Great\", e=\"!\"))\n",
    "print(concatenate_kwargs(a=\"Real\", b=\"Python\", c=\"Is\"))\n",
    "print(concatenate_kwargs(a=\"Real\", b=\"Python\", c=\"Is\", d=\"Great\", e=\"!\", f=\"ok\"))"
   ]
  },
  {
   "cell_type": "code",
   "execution_count": 17,
   "metadata": {},
   "outputs": [
    {
     "data": {
      "text/plain": [
       "'jack  Jill went up 7a'"
      ]
     },
     "execution_count": 17,
     "metadata": {},
     "output_type": "execute_result"
    }
   ],
   "source": [
    "string_ex1 = \"\"\n",
    "string_ex1 = \"jack \" +  \" Jill\" + \" went \" + \"up \" + \"{}a\".format(7)\n",
    "string_ex1"
   ]
  },
  {
   "cell_type": "code",
   "execution_count": 7,
   "metadata": {},
   "outputs": [
    {
     "data": {
      "text/plain": [
       "2"
      ]
     },
     "execution_count": 7,
     "metadata": {},
     "output_type": "execute_result"
    }
   ],
   "source": [
    "a = 1\n",
    "a += 1 #a = a+1\n",
    "a"
   ]
  },
  {
   "cell_type": "code",
   "execution_count": null,
   "metadata": {},
   "outputs": [],
   "source": [
    "def concatenate_args(*args):\n",
    "    result = \"\"\n",
    "    # Iterating over the Python kwargs dictionary\n",
    "    for arg in kwargs.values():\n",
    "        result += \" \" +arg\n",
    "    return result\n",
    "\n",
    "print(concatenate(a=\"Real\", b=\"Python\", c=\"Is\", d=\"Great\", e=\"!\"))"
   ]
  },
  {
   "cell_type": "code",
   "execution_count": null,
   "metadata": {},
   "outputs": [],
   "source": []
  },
  {
   "cell_type": "code",
   "execution_count": 11,
   "metadata": {},
   "outputs": [
    {
     "name": "stdout",
     "output_type": "stream",
     "text": [
      "Real\n",
      "Python\n",
      "Is\n",
      "Great\n",
      "!\n",
      " Real Python Is Great !\n"
     ]
    }
   ],
   "source": [
    "def test(**kwargs):\n",
    "    result = \"\"\n",
    "    # Iterating over the Python kwargs dictionary\n",
    "    for arg in kwargs.values():\n",
    "        print(arg) \n",
    "        result += \" \" +arg\n",
    "    return result\n",
    "\n",
    "print(test(a=\"Real\", b=\"Python\", c=\"Is\", d=\"Great\", e=\"!\"))\n",
    "       "
   ]
  },
  {
   "cell_type": "code",
   "execution_count": 13,
   "metadata": {},
   "outputs": [
    {
     "name": "stdout",
     "output_type": "stream",
     "text": [
      "Abdominal pain\n",
      "Abdominal guarding\n",
      "Bloody cough\n"
     ]
    }
   ],
   "source": [
    "import requests\n",
    "import argparse\n",
    "\n",
    "url = \"https://priaid-symptom-checker-v1.p.rapidapi.com/symptoms\"\n",
    "querystring = {\"format\":\"json\",\"language\":\"en-gb\"}\n",
    "headers = {\n",
    "    'x-rapidapi-host': \"priaid-symptom-checker-v1.p.rapidapi.com\",\n",
    "    'x-rapidapi-key': \"e9e82ff66bmsh2353f291af944f0p1f8063jsn60d6c57e9d77\"\n",
    "    }\n",
    "\n",
    "response = requests.request(\"GET\", url, headers=headers, params=querystring)\n",
    "\n",
    "# sx list\n",
    "sx_list = response.json()\n",
    "\n",
    "def health(*args):\n",
    "    list_of_sx = []\n",
    "    for i in args:\n",
    "        print(i)\n",
    "        list_of_sx.append(i)\n",
    "    return(list_of_sx)\n",
    "    \n",
    "z= health(\"Abdominal pain\", \"Abdominal guarding\", \"Bloody cough\")\n",
    "\n",
    "\n",
    "def find_sxcode(sx_list,z ):\n",
    "    for sx in sx_list:\n",
    "        if sx [\"Name\"]==z:\n",
    "            #print(\"Found code: \", sx[\"ID\"])\n",
    "            return sx[\"ID\"]\n",
    "\n",
    "\n"
   ]
  },
  {
   "cell_type": "code",
   "execution_count": 14,
   "metadata": {},
   "outputs": [
    {
     "name": "stdout",
     "output_type": "stream",
     "text": [
      "10\n",
      "188\n",
      "233\n"
     ]
    }
   ],
   "source": [
    "for i in z:\n",
    "    print (find_sxcode(sx_list, i))"
   ]
  },
  {
   "cell_type": "code",
   "execution_count": null,
   "metadata": {},
   "outputs": [],
   "source": [
    "import requests\n",
    "import argparse\n",
    "\n",
    "url = \"https://priaid-symptom-checker-v1.p.rapidapi.com/symptoms\"\n",
    "querystring = {\"format\":\"json\",\"language\":\"en-gb\"}\n",
    "headers = {\n",
    "    'x-rapidapi-host': \"priaid-symptom-checker-v1.p.rapidapi.com\",\n",
    "    'x-rapidapi-key': \"e9e82ff66bmsh2353f291af944f0p1f8063jsn60d6c57e9d77\"\n",
    "    }\n",
    "\n",
    "def"
   ]
  },
  {
   "cell_type": "code",
   "execution_count": 52,
   "metadata": {},
   "outputs": [
    {
     "ename": "IndexError",
     "evalue": "tuple index out of range",
     "output_type": "error",
     "traceback": [
      "\u001b[1;31m---------------------------------------------------------------------------\u001b[0m",
      "\u001b[1;31mIndexError\u001b[0m                                Traceback (most recent call last)",
      "\u001b[1;32m<ipython-input-52-d46b77e63654>\u001b[0m in \u001b[0;36m<module>\u001b[1;34m\u001b[0m\n\u001b[0;32m      1\u001b[0m \u001b[0murl\u001b[0m \u001b[1;33m=\u001b[0m \u001b[1;34m\"https://priaid-symptom-checker-v1.p.rapidapi.com/diagnosis\"\u001b[0m\u001b[1;33m\u001b[0m\u001b[1;33m\u001b[0m\u001b[0m\n\u001b[0;32m      2\u001b[0m \u001b[1;33m\u001b[0m\u001b[0m\n\u001b[1;32m----> 3\u001b[1;33m \u001b[0mquerystring\u001b[0m \u001b[1;33m=\u001b[0m \u001b[1;33m{\u001b[0m\u001b[1;34m\"symptoms\"\u001b[0m\u001b[1;33m:\u001b[0m \u001b[1;34m\"[{},{}]\"\u001b[0m\u001b[1;33m.\u001b[0m\u001b[0mformat\u001b[0m\u001b[1;33m(\u001b[0m\u001b[0margs\u001b[0m\u001b[1;33m)\u001b[0m\u001b[1;33m,\u001b[0m\u001b[1;34m\"gender\"\u001b[0m\u001b[1;33m:\u001b[0m \u001b[1;34m\"Male\"\u001b[0m\u001b[1;33m,\u001b[0m\u001b[1;34m\"year_of_birth\"\u001b[0m\u001b[1;33m:\u001b[0m \u001b[1;34m\"1984\"\u001b[0m\u001b[1;33m,\u001b[0m\u001b[1;34m\"language\"\u001b[0m\u001b[1;33m:\u001b[0m\u001b[1;34m\"en-gb\"\u001b[0m\u001b[1;33m}\u001b[0m\u001b[1;33m\u001b[0m\u001b[1;33m\u001b[0m\u001b[0m\n\u001b[0m\u001b[0;32m      4\u001b[0m \u001b[1;33m\u001b[0m\u001b[0m\n\u001b[0;32m      5\u001b[0m headers = {\n",
      "\u001b[1;31mIndexError\u001b[0m: tuple index out of range"
     ]
    }
   ],
   "source": [
    "url = \"https://priaid-symptom-checker-v1.p.rapidapi.com/diagnosis\"\n",
    "\n",
    "querystring = {\"symptoms\": \"[{},{}]\".format(args),\"gender\": \"Male\",\"year_of_birth\": \"1984\",\"language\":\"en-gb\"}\n",
    "\n",
    "headers = {\n",
    "    'x-rapidapi-host': \"priaid-symptom-checker-v1.p.rapidapi.com\",\n",
    "    'x-rapidapi-key': \"e9e82ff66bmsh2353f291af944f0p1f8063jsn60d6c57e9d77\"\n",
    "    }\n",
    "response = requests.request(\"GET\", url, headers=headers, params=querystring)\n",
    "\n",
    "u = response.json()\n",
    "for i in u:\n",
    "  print(i[\"Issue\"][\"Name\"])"
   ]
  },
  {
   "cell_type": "code",
   "execution_count": 37,
   "metadata": {},
   "outputs": [
    {
     "name": "stdout",
     "output_type": "stream",
     "text": [
      "3\n",
      "4\n"
     ]
    }
   ],
   "source": [
    "print(\"{}\\n{}\".format(3,4))"
   ]
  },
  {
   "cell_type": "code",
   "execution_count": 19,
   "metadata": {},
   "outputs": [
    {
     "name": "stdout",
     "output_type": "stream",
     "text": [
      "<class 'tuple'>\n",
      "First argument : Hello\n",
      "Next argument through *argv : Welcome\n",
      "Next argument through *argv : to\n",
      "Next argument through *argv : GeeksforGeeks\n"
     ]
    }
   ],
   "source": [
    "# Python program to illustrate  \n",
    "# *args with first extra argument \n",
    "def myFun(arg1, *argv): \n",
    "    print (type(argv))\n",
    "    print (\"First argument :\", arg1) \n",
    "    for arg in argv: \n",
    "        print(\"Next argument through *argv :\", arg) \n",
    "  \n",
    "myFun('Hello', 'Welcome', 'to', 'GeeksforGeeks') "
   ]
  },
  {
   "cell_type": "code",
   "execution_count": 21,
   "metadata": {},
   "outputs": [
    {
     "name": "stdout",
     "output_type": "stream",
     "text": [
      "arg1: Geeks\n",
      "arg2: for\n",
      "arg3: Geeks\n"
     ]
    }
   ],
   "source": [
    "def myFun(arg1, arg2, arg3): \n",
    "    print(\"arg1:\", arg1) \n",
    "    print(\"arg2:\", arg2) \n",
    "    print(\"arg3:\", arg3) \n",
    "      \n",
    "# Now we can use *args or **kwargs to \n",
    "# pass arguments to this function :  \n",
    "args = (\"Geeks\", \"for\", \"Geeks\") \n",
    "myFun(*args) "
   ]
  },
  {
   "cell_type": "code",
   "execution_count": null,
   "metadata": {},
   "outputs": [],
   "source": [
    "def myFun(arg1, arg2, arg3): \n",
    "    print(\"arg1:\", arg1) \n",
    "    print(\"arg2:\", arg2) \n",
    "    print(\"arg3:\", arg3) \n",
    "      \n",
    "# Now we can use *args or **kwargs to \n",
    "# pass arguments to this function :  \n",
    "args = (\"Geeks\", \"for\", \"Geeks\") \n",
    "myFun(*args) "
   ]
  },
  {
   "cell_type": "code",
   "execution_count": 7,
   "metadata": {},
   "outputs": [
    {
     "name": "stdout",
     "output_type": "stream",
     "text": [
      "Abdominal guarding\n",
      "Abdominal pain\n",
      "Aileen\n"
     ]
    }
   ],
   "source": [
    "def myFun(*args):\n",
    "    list_of_sx = []\n",
    "    for i in args:\n",
    "        print (i)\n",
    "        list_of_sx.append(i)\n",
    "    return(list_of_sx)\n",
    "\n",
    "z = myFun(\"Abdominal guarding\",\"Abdominal pain\", \"Aileen\")"
   ]
  },
  {
   "cell_type": "code",
   "execution_count": 6,
   "metadata": {},
   "outputs": [
    {
     "name": "stdout",
     "output_type": "stream",
     "text": [
      "Abdominal guarding\n",
      "Abdominal pain\n",
      "Alina\n",
      "Aileen\n"
     ]
    }
   ],
   "source": [
    "for i in z:\n",
    "    print(i)"
   ]
  },
  {
   "cell_type": "code",
   "execution_count": null,
   "metadata": {},
   "outputs": [],
   "source": [
    "[1,2,3,4]"
   ]
  }
 ],
 "metadata": {
  "kernelspec": {
   "display_name": "Python 3",
   "language": "python",
   "name": "python3"
  },
  "language_info": {
   "codemirror_mode": {
    "name": "ipython",
    "version": 3
   },
   "file_extension": ".py",
   "mimetype": "text/x-python",
   "name": "python",
   "nbconvert_exporter": "python",
   "pygments_lexer": "ipython3",
   "version": "3.7.6"
  }
 },
 "nbformat": 4,
 "nbformat_minor": 4
}
