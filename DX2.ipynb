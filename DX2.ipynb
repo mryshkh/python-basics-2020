{
 "cells": [
  {
   "cell_type": "code",
   "execution_count": 3,
   "metadata": {},
   "outputs": [
    {
     "name": "stdout",
     "output_type": "stream",
     "text": [
      " Real Python Is Great !\n"
     ]
    }
   ],
   "source": [
    "def concatenate_kwargs(**kwargs):\n",
    "    result = \"\"\n",
    "    # Iterating over the Python kwargs dictionary\n",
    "    for arg in kwargs.values():\n",
    "        result += \" \" +arg\n",
    "    return result\n",
    "\n",
    "print(concatenate(a=\"Real\", b=\"Python\", c=\"Is\", d=\"Great\", e=\"!\"))"
   ]
  },
  {
   "cell_type": "code",
   "execution_count": null,
   "metadata": {},
   "outputs": [],
   "source": [
    "def concatenate_args(*args):\n",
    "    result = \"\"\n",
    "    # Iterating over the Python kwargs dictionary\n",
    "    for arg in kwargs.values():\n",
    "        result += \" \" +arg\n",
    "    return result\n",
    "\n",
    "print(concatenate(a=\"Real\", b=\"Python\", c=\"Is\", d=\"Great\", e=\"!\"))"
   ]
  },
  {
   "cell_type": "code",
   "execution_count": null,
   "metadata": {},
   "outputs": [],
   "source": []
  },
  {
   "cell_type": "code",
   "execution_count": 11,
   "metadata": {},
   "outputs": [
    {
     "name": "stdout",
     "output_type": "stream",
     "text": [
      "Real\n",
      "Python\n",
      "Is\n",
      "Great\n",
      "!\n",
      " Real Python Is Great !\n"
     ]
    }
   ],
   "source": [
    "def test(**kwargs):\n",
    "    result = \"\"\n",
    "    # Iterating over the Python kwargs dictionary\n",
    "    for arg in kwargs.values():\n",
    "        print(arg) \n",
    "        result += \" \" +arg\n",
    "    return result\n",
    "\n",
    "print(test(a=\"Real\", b=\"Python\", c=\"Is\", d=\"Great\", e=\"!\"))\n",
    "       "
   ]
  },
  {
   "cell_type": "code",
   "execution_count": 29,
   "metadata": {},
   "outputs": [
    {
     "name": "stdout",
     "output_type": "stream",
     "text": [
      "10 188\n"
     ]
    }
   ],
   "source": [
    "import requests\n",
    "import argparse\n",
    "\n",
    "url = \"https://priaid-symptom-checker-v1.p.rapidapi.com/symptoms\"\n",
    "querystring = {\"format\":\"json\",\"language\":\"en-gb\"}\n",
    "headers = {\n",
    "    'x-rapidapi-host': \"priaid-symptom-checker-v1.p.rapidapi.com\",\n",
    "    'x-rapidapi-key': \"e9e82ff66bmsh2353f291af944f0p1f8063jsn60d6c57e9d77\"\n",
    "    }\n",
    "\n",
    "response = requests.request(\"GET\", url, headers=headers, params=querystring)\n",
    "\n",
    "# sx list\n",
    "sx_list = response.json()\n",
    "\n",
    "def find_sxcode(sx_list,symp_name ):\n",
    "    for sx in sx_list:\n",
    "        if sx [\"Name\"]==symp_name:\n",
    "            #print(\"Found code: \", sx[\"ID\"])\n",
    "            return sx[\"ID\"]\n",
    "\n",
    "sxid1 = find_sxcode(sx_list, \"Abdominal pain\")\n",
    "sxid2 = find_sxcode(sx_list, \"Abdominal guarding\")\n",
    "print(sxid1, sxid2)\n",
    "\n"
   ]
  },
  {
   "cell_type": "code",
   "execution_count": 52,
   "metadata": {},
   "outputs": [
    {
     "ename": "IndexError",
     "evalue": "tuple index out of range",
     "output_type": "error",
     "traceback": [
      "\u001b[1;31m---------------------------------------------------------------------------\u001b[0m",
      "\u001b[1;31mIndexError\u001b[0m                                Traceback (most recent call last)",
      "\u001b[1;32m<ipython-input-52-d46b77e63654>\u001b[0m in \u001b[0;36m<module>\u001b[1;34m\u001b[0m\n\u001b[0;32m      1\u001b[0m \u001b[0murl\u001b[0m \u001b[1;33m=\u001b[0m \u001b[1;34m\"https://priaid-symptom-checker-v1.p.rapidapi.com/diagnosis\"\u001b[0m\u001b[1;33m\u001b[0m\u001b[1;33m\u001b[0m\u001b[0m\n\u001b[0;32m      2\u001b[0m \u001b[1;33m\u001b[0m\u001b[0m\n\u001b[1;32m----> 3\u001b[1;33m \u001b[0mquerystring\u001b[0m \u001b[1;33m=\u001b[0m \u001b[1;33m{\u001b[0m\u001b[1;34m\"symptoms\"\u001b[0m\u001b[1;33m:\u001b[0m \u001b[1;34m\"[{},{}]\"\u001b[0m\u001b[1;33m.\u001b[0m\u001b[0mformat\u001b[0m\u001b[1;33m(\u001b[0m\u001b[0margs\u001b[0m\u001b[1;33m)\u001b[0m\u001b[1;33m,\u001b[0m\u001b[1;34m\"gender\"\u001b[0m\u001b[1;33m:\u001b[0m \u001b[1;34m\"Male\"\u001b[0m\u001b[1;33m,\u001b[0m\u001b[1;34m\"year_of_birth\"\u001b[0m\u001b[1;33m:\u001b[0m \u001b[1;34m\"1984\"\u001b[0m\u001b[1;33m,\u001b[0m\u001b[1;34m\"language\"\u001b[0m\u001b[1;33m:\u001b[0m\u001b[1;34m\"en-gb\"\u001b[0m\u001b[1;33m}\u001b[0m\u001b[1;33m\u001b[0m\u001b[1;33m\u001b[0m\u001b[0m\n\u001b[0m\u001b[0;32m      4\u001b[0m \u001b[1;33m\u001b[0m\u001b[0m\n\u001b[0;32m      5\u001b[0m headers = {\n",
      "\u001b[1;31mIndexError\u001b[0m: tuple index out of range"
     ]
    }
   ],
   "source": [
    "url = \"https://priaid-symptom-checker-v1.p.rapidapi.com/diagnosis\"\n",
    "\n",
    "querystring = {\"symptoms\": \"[{},{}]\".format(args),\"gender\": \"Male\",\"year_of_birth\": \"1984\",\"language\":\"en-gb\"}\n",
    "\n",
    "headers = {\n",
    "    'x-rapidapi-host': \"priaid-symptom-checker-v1.p.rapidapi.com\",\n",
    "    'x-rapidapi-key': \"e9e82ff66bmsh2353f291af944f0p1f8063jsn60d6c57e9d77\"\n",
    "    }\n",
    "response = requests.request(\"GET\", url, headers=headers, params=querystring)\n",
    "\n",
    "u = response.json()\n",
    "for i in u:\n",
    "  print(i[\"Issue\"][\"Name\"])"
   ]
  },
  {
   "cell_type": "code",
   "execution_count": 37,
   "metadata": {},
   "outputs": [
    {
     "name": "stdout",
     "output_type": "stream",
     "text": [
      "3\n",
      "4\n"
     ]
    }
   ],
   "source": [
    "print(\"{}\\n{}\".format(3,4))"
   ]
  },
  {
   "cell_type": "code",
   "execution_count": 19,
   "metadata": {},
   "outputs": [
    {
     "name": "stdout",
     "output_type": "stream",
     "text": [
      "<class 'tuple'>\n",
      "First argument : Hello\n",
      "Next argument through *argv : Welcome\n",
      "Next argument through *argv : to\n",
      "Next argument through *argv : GeeksforGeeks\n"
     ]
    }
   ],
   "source": [
    "# Python program to illustrate  \n",
    "# *args with first extra argument \n",
    "def myFun(arg1, *argv): \n",
    "    print (type(argv))\n",
    "    print (\"First argument :\", arg1) \n",
    "    for arg in argv: \n",
    "        print(\"Next argument through *argv :\", arg) \n",
    "  \n",
    "myFun('Hello', 'Welcome', 'to', 'GeeksforGeeks') "
   ]
  },
  {
   "cell_type": "code",
   "execution_count": 21,
   "metadata": {},
   "outputs": [
    {
     "name": "stdout",
     "output_type": "stream",
     "text": [
      "arg1: Geeks\n",
      "arg2: for\n",
      "arg3: Geeks\n"
     ]
    }
   ],
   "source": [
    "def myFun(arg1, arg2, arg3): \n",
    "    print(\"arg1:\", arg1) \n",
    "    print(\"arg2:\", arg2) \n",
    "    print(\"arg3:\", arg3) \n",
    "      \n",
    "# Now we can use *args or **kwargs to \n",
    "# pass arguments to this function :  \n",
    "args = (\"Geeks\", \"for\", \"Geeks\") \n",
    "myFun(*args) "
   ]
  },
  {
   "cell_type": "code",
   "execution_count": null,
   "metadata": {},
   "outputs": [],
   "source": [
    "def myFun(arg1, arg2, arg3): \n",
    "    print(\"arg1:\", arg1) \n",
    "    print(\"arg2:\", arg2) \n",
    "    print(\"arg3:\", arg3) \n",
    "      \n",
    "# Now we can use *args or **kwargs to \n",
    "# pass arguments to this function :  \n",
    "args = (\"Geeks\", \"for\", \"Geeks\") \n",
    "myFun(*args) "
   ]
  },
  {
   "cell_type": "code",
   "execution_count": 7,
   "metadata": {},
   "outputs": [
    {
     "name": "stdout",
     "output_type": "stream",
     "text": [
      "Abdominal guarding\n",
      "Abdominal pain\n",
      "Aileen\n"
     ]
    }
   ],
   "source": [
    "def myFun(*args):\n",
    "    list_of_sx = []\n",
    "    for i in args:\n",
    "        print (i)\n",
    "        list_of_sx.append(i)\n",
    "    return(list_of_sx)\n",
    "\n",
    "z = myFun(\"Abdominal guarding\",\"Abdominal pain\", \"Aileen\")"
   ]
  },
  {
   "cell_type": "code",
   "execution_count": 6,
   "metadata": {},
   "outputs": [
    {
     "name": "stdout",
     "output_type": "stream",
     "text": [
      "Abdominal guarding\n",
      "Abdominal pain\n",
      "Alina\n",
      "Aileen\n"
     ]
    }
   ],
   "source": [
    "for i in z:\n",
    "    print(i)"
   ]
  },
  {
   "cell_type": "code",
   "execution_count": null,
   "metadata": {},
   "outputs": [],
   "source": [
    "[1,2,3,4]"
   ]
  }
 ],
 "metadata": {
  "kernelspec": {
   "display_name": "Python 3",
   "language": "python",
   "name": "python3"
  },
  "language_info": {
   "codemirror_mode": {
    "name": "ipython",
    "version": 3
   },
   "file_extension": ".py",
   "mimetype": "text/x-python",
   "name": "python",
   "nbconvert_exporter": "python",
   "pygments_lexer": "ipython3",
   "version": "3.7.6"
  }
 },
 "nbformat": 4,
 "nbformat_minor": 4
}
