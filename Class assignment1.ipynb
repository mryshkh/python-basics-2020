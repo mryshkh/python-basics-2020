{
 "cells": [
  {
   "cell_type": "code",
   "execution_count": 58,
   "metadata": {},
   "outputs": [
    {
     "name": "stdout",
     "output_type": "stream",
     "text": [
      "Tahani\n"
     ]
    }
   ],
   "source": [
    "friend = {'name':\"Fatimah\",'age':24,'cats':[\"Tahani\", \"Manu\", \"Frisk\"]}\n",
    "print(friend[\"cats\"][0])\n",
    "\n"
   ]
  },
  {
   "cell_type": "code",
   "execution_count": null,
   "metadata": {},
   "outputs": [],
   "source": [
    "'{\"message\": \"success\", \"number\": 5, \"people\": [{\"craft\": \"ISS\", \"name\": \"Chris Cassidy\"}, {\"craft\": \"ISS\", \"name\": \"Anatoly Ivanishin\"}, {\"craft\": \"ISS\", \"name\": \"Ivan Vagner\"}, {\"craft\": \"ISS\", \"name\": \"Doug Hurley\"}, {\"craft\": \"ISS\", \"name\": \"Bob Behnken\"}]}'\n"
   ]
  },
  {
   "cell_type": "code",
   "execution_count": 90,
   "metadata": {},
   "outputs": [
    {
     "name": "stdout",
     "output_type": "stream",
     "text": [
      "List Of given states:\n",
      "\n",
      "Gujarat\n",
      "Maharashtra\n",
      "Rajasthan\n",
      "Bihar\n"
     ]
    }
   ],
   "source": [
    "statesAndCapitals = { \n",
    "                     'Gujarat' : 'Gandhinagar', \n",
    "                     'Maharashtra' : 'Mumbai', \n",
    "                     'Rajasthan' : 'Jaipur', \n",
    "                     'Bihar' : 'Patna'\n",
    "                    } \n",
    "                      \n",
    "print('List Of given states:\\n') \n",
    "  \n",
    "# Iterating over keys \n",
    "for state in statesAndCapitals: \n",
    "    print(state) "
   ]
  },
  {
   "cell_type": "code",
   "execution_count": 98,
   "metadata": {
    "scrolled": true
   },
   "outputs": [
    {
     "name": "stdout",
     "output_type": "stream",
     "text": [
      "Number of items in the list =  5\n",
      "Chris Cassidy\n",
      "Anatoly Ivanishin\n",
      "Ivan Vagner\n",
      "Doug Hurley\n",
      "Bob Behnken\n"
     ]
    }
   ],
   "source": [
    "content = {\"message\": \"success\", \n",
    "            \"number\": 5, \n",
    "            \"people\": [{\"craft\": \"ISS\", \"name\": \"Chris Cassidy\"}, \n",
    "                       {\"craft\": \"ISS\", \"name\": \"Anatoly Ivanishin\"}, \n",
    "                       {\"craft\": \"ISS\", \"name\": \"Ivan Vagner\"}, \n",
    "                       {\"craft\": \"ISS\", \"name\": \"Doug Hurley\"}, \n",
    "                       {\"craft\": \"ISS\", \"name\": \"Bob Behnken\"}]}\n",
    "\n",
    "print (\"Number of items in the list = \", len(content[\"people\"]))\n",
    "\n",
    "for people in content[\"people\"]:\n",
    "    print(people[\"name\"])"
   ]
  },
  {
   "cell_type": "code",
   "execution_count": null,
   "metadata": {},
   "outputs": [],
   "source": [
    "listname =  [{\"craft\": \"ISS\", \"name\": \"Chris Cassidy\"}, {\"craft\": \"ISS\", \"name\": \"Anatoly Ivanishin\"}, {\"craft\": \"ISS\", \"name\": \"Ivan Vagner\"}, {\"craft\": \"ISS\", \"name\": \"Doug Hurley\"}, {\"craft\": \"ISS\", \"name\": \"Bob Behnken\"}]"
   ]
  }
 ],
 "metadata": {
  "kernelspec": {
   "display_name": "Python 3",
   "language": "python",
   "name": "python3"
  },
  "language_info": {
   "codemirror_mode": {
    "name": "ipython",
    "version": 3
   },
   "file_extension": ".py",
   "mimetype": "text/x-python",
   "name": "python",
   "nbconvert_exporter": "python",
   "pygments_lexer": "ipython3",
   "version": "3.7.6"
  }
 },
 "nbformat": 4,
 "nbformat_minor": 4
}
